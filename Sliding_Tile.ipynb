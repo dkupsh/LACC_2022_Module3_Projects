{
 "cells": [
  {
   "cell_type": "markdown",
   "metadata": {},
   "source": [
    "# Artificial Intellegence for the Sliding Tile Puzzle\n",
    "\n",
    "In this project, we will explore the [sliding tile puzzle](https://en.wikipedia.org/wiki/Sliding_puzzle). The sliding tile puzzle is a game similar to the rubicks cube, where the goal is to place the numbered squares in order, given a random initial state. "
   ]
  },
  {
   "cell_type": "code",
   "execution_count": 13,
   "metadata": {},
   "outputs": [],
   "source": [
    "# Import libraries needed for later parts. \n",
    "import random\n",
    "import numpy as np\n",
    "import heapq"
   ]
  },
  {
   "cell_type": "markdown",
   "metadata": {},
   "source": [
    "First, let's run a bunch of helper functions. These functions are not necessary to learn, but are helpful for later on.\n",
    "\n",
    "The two functions that may be useful for you:\n",
    "\n",
    "generate_valid_sliding_tile(n): will generate a solvable n x n sliding tile puzzle\n",
    "goal(puzzle): will generate the goal state for a given puzzle "
   ]
  },
  {
   "cell_type": "code",
   "execution_count": 14,
   "metadata": {},
   "outputs": [],
   "source": [
    "def generate_random_sliding_tile(n):\n",
    "    ''' Generates a random sliding tile puzzle given the size of the puzzle\n",
    "        n: the number of rows and columns in the puzzle\n",
    "    '''\n",
    "    # Create a list of all the possible numbers\n",
    "    numbers = list(range(0, n*n))\n",
    "    \n",
    "    # Shuffle the list of numbers\n",
    "    random.shuffle(numbers)\n",
    "    \n",
    "    # Shape the random array into a possible puzzle configuration\n",
    "    tile_array = np.array(numbers).reshape(n, n)\n",
    "\n",
    "    return tile_array\n",
    "\n",
    "def check_valid_sliding_tile(puzzle):\n",
    "    ''' Checks to see if a sliding tile puzzle is valid (not all are)\n",
    "        Uses some fancy math to see if they are possible\n",
    "    '''\n",
    "    def count_inversions(array):\n",
    "        count = 0\n",
    "        for i in range(len(array)):\n",
    "            j = i + 1\n",
    "            while j < len(array):\n",
    "                if array[i] > array[j]:\n",
    "                    count +=1\n",
    "                j += 1\n",
    "        return count\n",
    "    \n",
    "    def blank_square_row(puzzle):\n",
    "        for i in range(len(puzzle)):\n",
    "            if 0 in puzzle[i]:\n",
    "                return i\n",
    "    \n",
    "    x_dim, y_dim = puzzle.shape\n",
    "\n",
    "    # We are only considering square puzzles\n",
    "    assert(x_dim == y_dim)\n",
    "    \n",
    "    # Flatten the matrix to just an array\n",
    "    flattened_puzzle = puzzle.flatten()\n",
    "\n",
    "    # Remove the Empty tile from the array\n",
    "    flattened_puzzle = flattened_puzzle[flattened_puzzle != 0]\n",
    "    \n",
    "    # Get the number of inversions in the array\n",
    "    inversions = count_inversions(flattened_puzzle)\n",
    "    \n",
    "    # Fancy math to see if the puzzle is solvable\n",
    "    if x_dim % 2 == 0:\n",
    "       return (blank_square_row(puzzle) + inversions) % 2 == 1\n",
    "    else:\n",
    "        return inversions % 2 == 0\n",
    "\n",
    "def generate_valid_sliding_tile(n):\n",
    "    ''' Generates a valid sliding tile puzzle given the size of the puzzle\n",
    "        n: the number of rows and columns in the puzzle\n",
    "    '''\n",
    "    if n <= 1:\n",
    "        raise ValueError(\"n must be greater than 1\")\n",
    "\n",
    "    # Generate a random puzzle\n",
    "    puzzle = generate_random_sliding_tile(n)\n",
    "    while (not check_valid_sliding_tile(puzzle)):\n",
    "        puzzle = generate_random_sliding_tile(n)\n",
    "    return puzzle\n",
    "\n",
    "def goal(puzzle):\n",
    "    ''' Returns a goal state of a puzzle at a given size'''\n",
    "    numbers = list(range(1, puzzle.shape[0]*puzzle.shape[1]))\n",
    "    numbers.append(0)\n",
    "    return np.array(numbers).reshape(puzzle.shape)\n",
    "\n",
    "def check_if_in_array(seen, puzzle):\n",
    "    ''' Checks to see if an element is in an array '''\n",
    "    for item in seen:\n",
    "        if (item == puzzle).all():\n",
    "            return True\n",
    "    return False"
   ]
  },
  {
   "cell_type": "markdown",
   "metadata": {},
   "source": [
    "Now that all the helper functions are created. Lets look at the state representation of the puzzle that we are going to solve. Below shows a 2 x 2 sliding tile puzzle, where 0 is the blank space. As we can also see, we want to find the set of moves that will make us get to the goal state."
   ]
  },
  {
   "cell_type": "code",
   "execution_count": 15,
   "metadata": {},
   "outputs": [
    {
     "name": "stdout",
     "output_type": "stream",
     "text": [
      "A Random Puzzle\n",
      " [[3 0]\n",
      " [2 1]]\n",
      "Goal State\n",
      " [[1 2]\n",
      " [3 0]]\n"
     ]
    }
   ],
   "source": [
    "print('A Random Puzzle\\n',generate_valid_sliding_tile(2))\n",
    "print('Goal State\\n',goal(generate_valid_sliding_tile(2)))"
   ]
  },
  {
   "cell_type": "markdown",
   "metadata": {},
   "source": [
    "Now that we have our state representation, we need to create the possible actions that we can perform. Thus, we need to create functions to slide up, down, left, or right. If its not possible to slide in that direction, we are just returning False so that we don't worry about it later.\n",
    "\n",
    "Slide_up is implemented for you as a template. Your job is to implement slide_down, slide_left, and slide_right."
   ]
  },
  {
   "cell_type": "code",
   "execution_count": 16,
   "metadata": {},
   "outputs": [],
   "source": [
    "def slide_up(puzzle):\n",
    "    x_blank_tile, y_blank_tile = np.where(puzzle == 0)\n",
    "    new_puzzle = puzzle.copy()\n",
    "    \n",
    "    # First check to see if the empty tile is in the top row as we can't slide up in that case\n",
    "    if x_blank_tile == 0:\n",
    "        return False\n",
    "    \n",
    "    # Now lets swap the empty tile with the tile above it\n",
    "    tile_above = puzzle[x_blank_tile - 1, y_blank_tile]\n",
    "\n",
    "    new_puzzle[x_blank_tile - 1, y_blank_tile] = 0\n",
    "    new_puzzle[x_blank_tile, y_blank_tile] = tile_above\n",
    "\n",
    "    return new_puzzle\n",
    "\n",
    "def slide_down(puzzle):\n",
    "    x_blank_tile, y_blank_tile = np.where(puzzle == 0)\n",
    "    new_puzzle = puzzle.copy()\n",
    "    \n",
    "    ''' Start of Answer '''\n",
    "\n",
    "\n",
    "    ''' End of Answer '''\n",
    "\n",
    "    return new_puzzle\n",
    "\n",
    "def slide_left(puzzle):\n",
    "    x_blank_tile, y_blank_tile = np.where(puzzle == 0)\n",
    "    new_puzzle = puzzle.copy()\n",
    "    \n",
    "    ''' Start of Answer '''\n",
    "\n",
    "    ''' End of Answer '''\n",
    "\n",
    "    return new_puzzle\n",
    "\n",
    "def slide_right(puzzle):\n",
    "    x_blank_tile, y_blank_tile = np.where(puzzle == 0)\n",
    "    new_puzzle = puzzle.copy()\n",
    "\n",
    "    ''' Start of Answer '''\n",
    "    \n",
    "    ''' End of Answer '''\n",
    "\n",
    "    return new_puzzle    "
   ]
  },
  {
   "cell_type": "markdown",
   "metadata": {},
   "source": [
    "Now, make sure that your sliding is correct by manually checking that you have the right method."
   ]
  },
  {
   "cell_type": "markdown",
   "metadata": {},
   "source": []
  },
  {
   "cell_type": "code",
   "execution_count": 17,
   "metadata": {},
   "outputs": [
    {
     "name": "stdout",
     "output_type": "stream",
     "text": [
      "starting puzzle\n",
      " [[3 1 2]\n",
      " [5 8 6]\n",
      " [7 0 4]]\n",
      "sliding up\n",
      " [[3 1 2]\n",
      " [5 0 6]\n",
      " [7 8 4]]\n",
      "sliding down\n",
      " False\n",
      "sliding left\n",
      " [[3 1 2]\n",
      " [5 8 6]\n",
      " [0 7 4]]\n",
      "sliding right\n",
      " [[3 1 2]\n",
      " [5 8 6]\n",
      " [7 4 0]]\n"
     ]
    }
   ],
   "source": [
    "puzzle = generate_valid_sliding_tile(3)\n",
    "\n",
    "print('starting puzzle\\n', puzzle)\n",
    "print('sliding up\\n', slide_up(puzzle))\n",
    "print('sliding down\\n', slide_down(puzzle))\n",
    "print('sliding left\\n', slide_left(puzzle))\n",
    "print('sliding right\\n', slide_right(puzzle))"
   ]
  },
  {
   "cell_type": "markdown",
   "metadata": {},
   "source": [
    "Now that we have our actions, we also need to see if our puzzle is solved. \n",
    "\n",
    "Hint: Use the goal function from the helper functions"
   ]
  },
  {
   "cell_type": "code",
   "execution_count": 18,
   "metadata": {},
   "outputs": [],
   "source": [
    "def check_solved(puzzle):\n",
    "    ''' Checks to see if the puzzle is solved \n",
    "        Input: the current sliding tile puzzle\n",
    "        Output: True if the puzzle is solved, False otherwise\n",
    "    '''\n",
    "\n",
    "    ''' Start of Answer '''\n",
    "    ''' End of Answer '''\n",
    "    pass"
   ]
  },
  {
   "cell_type": "markdown",
   "metadata": {},
   "source": [
    "Now we need to actually solve the puzzle. First, we are going to use a breadth first search, which will provide an optimal solution by exhaustively checking all possibilities.\n",
    "\n",
    "Most of the search function is already implemented. You need to fill in some sections."
   ]
  },
  {
   "cell_type": "code",
   "execution_count": 19,
   "metadata": {},
   "outputs": [],
   "source": [
    "# Perform a Breadth First Search of the Sliding Tile Puzzle\n",
    "def bfs_sliding_tile(puzzle):\n",
    "    ''' Performs a Breadth First Search of the Sliding Tile Puzzle '''\n",
    "    # Create a queue to perform the BFS\n",
    "    seen = []\n",
    "    to_visit = [((), puzzle)]\n",
    "    while len(to_visit) > 0:\n",
    "        # Get the current state of the puzzle\n",
    "        current_path, current_puzzle = to_visit.pop(0)\n",
    "        \n",
    "        # Check to see if the puzzle has been previously visited, as we don't want to recheck something\n",
    "        if check_if_in_array(seen, current_puzzle):\n",
    "            continue\n",
    "\n",
    "        \n",
    "        # Check to see if the puzzle is solved, if its solved then we should return our path, otherwise we should do nothing\n",
    "\n",
    "        ''' Start of Answer '''\n",
    "        ''' End of Answer '''\n",
    "\n",
    "        # Add the puzzle to the seen set, this is so we don't recheck this puzzle state again later\n",
    "        seen.append(current_puzzle)\n",
    "        \n",
    "        # Now we are going to add all the next actions to the to_visit array\n",
    "        # If an action is valid, then we should add it to the array and also add the action to the path to that state\n",
    "\n",
    "        # Up is implemented here\n",
    "        up = slide_up(current_puzzle)\n",
    "        if up is not False:\n",
    "            to_visit.append((current_path + ('U',), up))\n",
    "        \n",
    "        # Your task is to implement all the other actions\n",
    "\n",
    "        ''' Start of Answer '''\n",
    "        ''' End of Answer '''\n",
    "        \n",
    "    \n",
    "    print('No solution found')"
   ]
  },
  {
   "cell_type": "markdown",
   "metadata": {},
   "source": [
    "Now that we have our Breadth-First Search Algorithm done, we should test it. Below are a few test cases, and also a random test for a 2 x 2 sliding tile puzzles. Try to create your own!"
   ]
  },
  {
   "cell_type": "code",
   "execution_count": 20,
   "metadata": {},
   "outputs": [
    {
     "name": "stdout",
     "output_type": "stream",
     "text": [
      "First Sample:\n",
      " [[3 0]\n",
      " [2 1]] \n",
      "Solution: ('D', 'L', 'U', 'R', 'D')\n",
      "Two by Two Sample:\n",
      " [[2 3]\n",
      " [0 1]] \n",
      "Solution: ('R', 'U', 'L', 'D', 'R')\n",
      "Second Sample:\n",
      " [[2 3 0]\n",
      " [1 4 6]\n",
      " [7 5 8]] \n",
      "Solution: ('L', 'L', 'D', 'R', 'D', 'R')\n"
     ]
    }
   ],
   "source": [
    "first = np.array([[3, 0], [2, 1]])\n",
    "solved_first = bfs_sliding_tile(first)\n",
    "print('First Sample:\\n', first, '\\nSolution:', solved_first)\n",
    "assert(len(solved_first) == 5)\n",
    "\n",
    "random_two_two = generate_valid_sliding_tile(2)\n",
    "solved_two_two = bfs_sliding_tile(random_two_two)\n",
    "print('Two by Two Sample:\\n', random_two_two, '\\nSolution:', solved_two_two)\n",
    "\n",
    "\n",
    "# Now a Three-by-Three Test Case\n",
    "second = np.array([[2, 3, 0], [1, 4, 6], [7, 5, 8]])\n",
    "solved_second = bfs_sliding_tile(second)\n",
    "print('Second Sample:\\n', second, '\\nSolution:', solved_second)\n",
    "assert(len(solved_second) == 6)"
   ]
  },
  {
   "cell_type": "markdown",
   "metadata": {},
   "source": [
    "If these test cases work, then congradulations you have finished part one of the assignment!"
   ]
  },
  {
   "cell_type": "markdown",
   "metadata": {},
   "source": [
    "# Part 2\n",
    "\n",
    "As you may have noticed, even though we are generating the correct solution it sometimes takes a very long time and won't even finish at all.\n",
    "\n",
    "Let's take the following example"
   ]
  },
  {
   "cell_type": "code",
   "execution_count": 21,
   "metadata": {},
   "outputs": [],
   "source": [
    "sliding_tile = np.array([[4, 2, 3], [7, 0, 5], [8, 6, 1]])\n",
    "solved_sliding_tile = bfs_sliding_tile(sliding_tile)\n",
    "print('Sliding Tile Sample:\\n', sliding_tile, '\\nSolution:', solved_sliding_tile)"
   ]
  },
  {
   "cell_type": "markdown",
   "metadata": {},
   "source": [
    "If you have a computer like ours, this example will take really long to finish. Why is that?\n",
    "\n",
    "Well, since we are exhaustively searching (using breadth-first-search) we must do every combination of actions before adding an action. This means that solutions that have larger depths (or require many actions) will take a very long time to complete, or may not complete at all.\n",
    "\n",
    "Thus, we have to be a little smarter about how we search. We can't search everything because it takes to long.\n",
    "\n",
    "A method to limit how long the searching takes is by using a heuristic. If we can judge how many more actions it will take for us to reach the solution, then we can search these paths first. Something to note is that this heuristic must be optimistic, or underestimate the number of moves it will take, as then we can still be guranteed to have the shortest possible path.\n",
    "\n",
    "Lets experiment with creating a first heuristic for this problem. For this heuristic, we are just going to count the number of spots that are wrong. This underestimates the number of moves, as we must move these tiles in order to get a solution.\n",
    "\n",
    "For example:\n",
    "\n",
    "[[0 2]\n",
    " [3 1]]\n",
    "\n",
    "will return 2. As 2,3 are in the right place and 0,1 are in the wrong place."
   ]
  },
  {
   "cell_type": "code",
   "execution_count": 22,
   "metadata": {},
   "outputs": [],
   "source": [
    "def out_of_place(puzzle):\n",
    "    ''' Calculates the number of tiles out of place for the given puzzle '''\n",
    "    num_out_of_place = 0\n",
    "    ''' Start of Answer '''\n",
    "    ''' End of Answer '''\n",
    "    return num_out_of_place"
   ]
  },
  {
   "cell_type": "markdown",
   "metadata": {},
   "source": [
    "Now that we have a heuristic, lets use it in our search algorithm. This algorithm is called A*-search, as it considers how far we have been and how far we must go to arrive at the solution. \n",
    "\n",
    "It follows the formula, F(N) = G(N) + H(N)\n",
    "\n",
    "where, F is the estimate of the final distance, G is the current distance that we calculated, and H is the estimated further distance that we must go.\n",
    "\n",
    "A* will search states with the lowest final distance first, before those with the longer distance. To do this, we are using a data structure called heap.\n",
    "\n",
    "As this is a little more complicated, we have fully implemented it below"
   ]
  },
  {
   "cell_type": "code",
   "execution_count": 23,
   "metadata": {},
   "outputs": [],
   "source": [
    "# A good default definition of a heap that we can use\n",
    "import heapq\n",
    "        \n",
    "def astar_sliding_tile(puzzle, heuristic):\n",
    "    ''' Performs a A* Search of the Sliding Tile Puzzle \n",
    "        Input: the puzzle to search, the heuristic to use\n",
    "        Output: the path to the solution, number of states expanded'''\n",
    "    \n",
    "    seen = []\n",
    "\n",
    "    # First create the heap\n",
    "    to_visit = []\n",
    "    heapq.heapify(to_visit)\n",
    "\n",
    "    # Add our initial state\n",
    "    heapq.heappush(to_visit, [0, 0, (), puzzle])\n",
    "\n",
    "    num_expanded = 0\n",
    "    while len(to_visit) > 0:\n",
    "        # Get the current state of the puzzle\n",
    "        _, _, current_path, current_puzzle = heapq.heappop(to_visit)\n",
    "        \n",
    "        # Check to see if the puzzle has been previously visited\n",
    "        if check_if_in_array(seen, current_puzzle):\n",
    "            continue\n",
    "\n",
    "        # Check to see if the puzzle is solved\n",
    "        if check_solved(current_puzzle):\n",
    "            return current_path, num_expanded\n",
    "        \n",
    "        # count the number of expanded nodes that we have visited\n",
    "        num_expanded += 1\n",
    "        \n",
    "        # Add the puzzle to the seen set\n",
    "        seen.append(current_puzzle)\n",
    "        \n",
    "        # Add the puzzle's children to the to_visit queue\n",
    "        up = slide_up(current_puzzle)\n",
    "        if up is not False:\n",
    "            new_path = current_path + ('U',)\n",
    "            heapq.heappush(to_visit, [heuristic(up) + len(new_path), -1 * num_expanded, new_path, up])\n",
    "        \n",
    "        down = slide_down(current_puzzle)\n",
    "        if down is not False:\n",
    "            new_path = current_path + ('D',)\n",
    "            heapq.heappush(to_visit, [heuristic(down) + len(new_path), -1 * num_expanded, new_path, down])\n",
    "        \n",
    "        left = slide_left(current_puzzle)\n",
    "        if left is not False:\n",
    "            new_path = current_path + ('L',)\n",
    "            heapq.heappush(to_visit, [heuristic(left) + len(new_path), -1 * num_expanded, new_path, left])\n",
    "\n",
    "        right = slide_right(current_puzzle)\n",
    "        if right is not False:\n",
    "            new_path = current_path + ('R',)\n",
    "            heapq.heappush(to_visit, [heuristic(right) + len(new_path), -1 * num_expanded, new_path, right])\n",
    "        \n",
    "    print('No solution found')"
   ]
  },
  {
   "cell_type": "markdown",
   "metadata": {},
   "source": [
    "Now let's solve the puzzle we had from earlier"
   ]
  },
  {
   "cell_type": "code",
   "execution_count": 24,
   "metadata": {},
   "outputs": [
    {
     "name": "stdout",
     "output_type": "stream",
     "text": [
      "Sliding Tile Sample:\n",
      " [[4 2 3]\n",
      " [7 0 5]\n",
      " [8 6 1]] \n",
      "Solution: ('R', 'D', 'L', 'L', 'U', 'R', 'R', 'U', 'L', 'D', 'L', 'U', 'R', 'R', 'D', 'D')  Expanded: 549\n"
     ]
    }
   ],
   "source": [
    "sliding_tile = np.array([[4, 2, 3], [7, 0, 5], [8, 6, 1]])\n",
    "solved_sliding_tile, expanded = astar_sliding_tile(sliding_tile, out_of_place)\n",
    "print('Sliding Tile Sample:\\n', sliding_tile, '\\nSolution:', solved_sliding_tile, ' Expanded:', expanded)"
   ]
  },
  {
   "cell_type": "markdown",
   "metadata": {},
   "source": [
    "However, our heuristic only goes so far. You may still notice that we can't solve a random three-by-three sliding tile puzzle yet. For the rest of this project, your job is to find a heuristic function that can beat our simple out_of_place count.\n",
    "\n",
    "What other estimates can you find that could estimate how much further better than we can?"
   ]
  },
  {
   "cell_type": "code",
   "execution_count": null,
   "metadata": {},
   "outputs": [],
   "source": [
    "def your_heuristic(puzzle):\n",
    "    ''' Start of Answer '''\n",
    "    ''' End of Answer '''\n",
    "    pass\n",
    "\n",
    "sliding_tile = generate_valid_sliding_tile(4)\n",
    "solved_sliding_tile, expanded = astar_sliding_tile(sliding_tile, your_heuristic)\n",
    "print('Sliding Tile Sample:\\n', sliding_tile, '\\nSolution:', solved_sliding_tile, ' Expanded:', expanded)"
   ]
  }
 ],
 "metadata": {
  "kernelspec": {
   "display_name": "Python 3.9.1 64-bit ('shims': pyenv)",
   "language": "python",
   "name": "python3"
  },
  "language_info": {
   "codemirror_mode": {
    "name": "ipython",
    "version": 3
   },
   "file_extension": ".py",
   "mimetype": "text/x-python",
   "name": "python",
   "nbconvert_exporter": "python",
   "pygments_lexer": "ipython3",
   "version": "3.9.1"
  },
  "orig_nbformat": 4,
  "vscode": {
   "interpreter": {
    "hash": "116a025d3fdf725f83e7492f9d70ad717c0d1c709e28d3168fe50c2d6bf5aca6"
   }
  }
 },
 "nbformat": 4,
 "nbformat_minor": 2
}
